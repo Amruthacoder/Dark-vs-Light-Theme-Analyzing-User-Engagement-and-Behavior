{
 "cells": [
  {
   "cell_type": "markdown",
   "metadata": {},
   "source": [
    "\n",
    "## Hypothesis Testing On Light Theme vs Dark Theme "
   ]
  },
  {
   "cell_type": "markdown",
   "metadata": {},
   "source": [
    "1. Understanding the data"
   ]
  },
  {
   "cell_type": "code",
   "execution_count": 1,
   "metadata": {},
   "outputs": [
    {
     "name": "stdout",
     "output_type": "stream",
     "text": [
      "         Theme  Click Through Rate  Conversion Rate  Bounce Rate  \\\n",
      "0  Light Theme            0.054920         0.282367     0.405085   \n",
      "1  Light Theme            0.113932         0.032973     0.732759   \n",
      "2   Dark Theme            0.323352         0.178763     0.296543   \n",
      "3  Light Theme            0.485836         0.325225     0.245001   \n",
      "4  Light Theme            0.034783         0.196766     0.765100   \n",
      "\n",
      "   Scroll_Depth  Age   Location  Session_Duration Purchases Added_to_Cart  \n",
      "0     72.489458   25    Chennai              1535        No           Yes  \n",
      "1     61.858568   19       Pune               303        No           Yes  \n",
      "2     45.737376   47    Chennai               563       Yes           Yes  \n",
      "3     76.305298   58       Pune               385       Yes            No  \n",
      "4     48.927407   25  New Delhi              1437        No            No  \n"
     ]
    }
   ],
   "source": [
    "import pandas as pd \n",
    "from scipy.stats import ttest_ind \n",
    "df = pd.read_csv(\"Data/website_ab_test.csv\")\n",
    "print(df.head())"
   ]
  },
  {
   "cell_type": "markdown",
   "metadata": {},
   "source": [
    "So given the website performance dataset, we need to understand how the theme of the website is affecting the user behavior.\n",
    "\n",
    "Next we need to understand the dataset overall by finding the summary statistics of dataset."
   ]
  },
  {
   "cell_type": "code",
   "execution_count": null,
   "metadata": {},
   "outputs": [],
   "source": [
    "data_summary= {'Number of Records': df.shape[0],\n",
    "               'Columns': df.shape[1],\n",
    "               'Missing values': df.isnull().sum(),\n",
    "               'Numerical columns summary': df.describe()}"
   ]
  },
  {
   "cell_type": "code",
   "execution_count": 4,
   "metadata": {},
   "outputs": [
    {
     "name": "stdout",
     "output_type": "stream",
     "text": [
      "{'Number of Records': 1000, 'Columns': 10, 'Missing values': Theme                 0\n",
      "Click Through Rate    0\n",
      "Conversion Rate       0\n",
      "Bounce Rate           0\n",
      "Scroll_Depth          0\n",
      "Age                   0\n",
      "Location              0\n",
      "Session_Duration      0\n",
      "Purchases             0\n",
      "Added_to_Cart         0\n",
      "dtype: int64, 'Numerical columns summary':        Click Through Rate  Conversion Rate  Bounce Rate  Scroll_Depth  \\\n",
      "count         1000.000000      1000.000000  1000.000000   1000.000000   \n",
      "mean             0.256048         0.253312     0.505758     50.319494   \n",
      "std              0.139265         0.139092     0.172195     16.895269   \n",
      "min              0.010767         0.010881     0.200720     20.011738   \n",
      "25%              0.140794         0.131564     0.353609     35.655167   \n",
      "50%              0.253715         0.252823     0.514049     51.130712   \n",
      "75%              0.370674         0.373040     0.648557     64.666258   \n",
      "max              0.499989         0.498916     0.799658     79.997108   \n",
      "\n",
      "               Age  Session_Duration  \n",
      "count  1000.000000       1000.000000  \n",
      "mean     41.528000        924.999000  \n",
      "std      14.114334        508.231723  \n",
      "min      18.000000         38.000000  \n",
      "25%      29.000000        466.500000  \n",
      "50%      42.000000        931.000000  \n",
      "75%      54.000000       1375.250000  \n",
      "max      65.000000       1797.000000  }\n"
     ]
    }
   ],
   "source": [
    "print(data_summary)"
   ]
  },
  {
   "cell_type": "markdown",
   "metadata": {},
   "source": [
    "The above output explains that the dataset contains 1000 records across 10 columns and it has no missing values.\n",
    "\n",
    "The numerical column summary describes that the columns:\n",
    "\n",
    "-Click Through Rate: values ranges from 0.01 to 0.50 with a mean of 0.26\n",
    "\n",
    "-Conversion Rate: values range from 0.01 to 0.50 with a mean of 0.25.\n",
    "\n",
    "-Bounce Rate: values range from 0.20 to 0.80 with a mean of 0.51.\n",
    "\n",
    "-Scroll Depth: values range from 20.01 to 80 with a mean of 50.32.\n",
    "\n",
    "-Age: values range from 18 to 65 years with a mean of about 41.5 years.\n",
    "\n",
    "-Session Duration: this columly widely aries from 38 seconds to nearly 1800 seconds( 30 min) with a mean session dusation of 925 seconds(15 min).\n",
    "\n",
    "Since we have a better undertsanding of our data let's analyze the performance between both themes based on the averages of all metrics for each theme."
   ]
  },
  {
   "cell_type": "code",
   "execution_count": 6,
   "metadata": {},
   "outputs": [
    {
     "name": "stdout",
     "output_type": "stream",
     "text": [
      "             Click Through Rate  Conversion Rate  Bounce Rate  Scroll_Depth  \\\n",
      "Theme                                                                         \n",
      "Light Theme            0.247109         0.255459     0.499035     50.735232   \n",
      "Dark Theme             0.264501         0.251282     0.512115     49.926404   \n",
      "\n",
      "                   Age  Session_Duration  \n",
      "Theme                                     \n",
      "Light Theme  41.734568        930.833333  \n",
      "Dark Theme   41.332685        919.482490  \n"
     ]
    }
   ],
   "source": [
    "df_numeric = df.select_dtypes(include=[\"number\"])  # Select only numeric columns\n",
    "theme_performance = df.groupby(\"Theme\")[df_numeric.columns].mean()\n",
    "\n",
    "theme_performance_sorted = theme_performance.sort_values(by=\"Conversion Rate\", ascending=False)\n",
    "print(theme_performance_sorted)"
   ]
  },
  {
   "cell_type": "markdown",
   "metadata": {},
   "source": [
    "This output signifies that the click through rate for dark theme is slightly higher than light theme.\n",
    "\n",
    "The conversion rate is marginally higher for light theme. \n",
    "\n",
    "The bounce rate is slightly higher for dark theme. \n",
    "\n",
    "User scroll slightly further on average of 50.74% on light theme than dark theme which is 49.93%. \n",
    "\n",
    "The average age of users for light theme is 41.73 while 41.33 for dark users.\n",
    "\n",
    "The average session duration is slightly longer for users on light theme(930.83 sec) compared to dark theme(919.48 sec)."
   ]
  },
  {
   "cell_type": "markdown",
   "metadata": {},
   "source": [
    "This shows that light theme slightly outperforms dark theme in the given metrics."
   ]
  },
  {
   "cell_type": "markdown",
   "metadata": {},
   "source": [
    "# Hypothesis Testing "
   ]
  },
  {
   "cell_type": "markdown",
   "metadata": {},
   "source": [
    "For conversion rates:\n",
    "\n",
    "Null Hypothesis(H0)- There is no difference in conversion rates between light and dark theme.\n",
    "\n",
    "Alternate Hypothesis(H1)- There is difference in conversion rates between light and dark theme."
   ]
  },
  {
   "cell_type": "code",
   "execution_count": 12,
   "metadata": {},
   "outputs": [
    {
     "name": "stdout",
     "output_type": "stream",
     "text": [
      "0.4748494462782632 0.6349982678451778\n"
     ]
    }
   ],
   "source": [
    "# 2-sample t test to compare means of two independent samples\n",
    "conversion_rates_light= df[df['Theme']== 'Light Theme']['Conversion Rate']\n",
    "conversion_rates_dark= df[df['Theme']=='Dark Theme']['Conversion Rate']\n",
    "\n",
    "t_state_conversion, p_state_conversion= ttest_ind(conversion_rates_light, conversion_rates_dark, equal_var= False)\n",
    "\n",
    "print(t_state_conversion, p_state_conversion)                            "
   ]
  },
  {
   "cell_type": "markdown",
   "metadata": {},
   "source": [
    "t-test- tells us difference between sample means relative to variation within samples\n",
    "\n",
    "p-state- tells us whether the difference between the means is statistically significant (p_state<0.05 we reject null hypothesus which means are significantly different, p_state >0.05 we fail to reject null hypothesus that is means are significantly different)\n"
   ]
  },
  {
   "cell_type": "markdown",
   "metadata": {},
   "source": [
    "The result from above two-sample t-test gives a p value approx 0.635 . p_state > 0.05 says we don't have enough evidence to reject null hypothesis. Which concludes the conversion rates between light theme and dark theme is statistically different."
   ]
  },
  {
   "cell_type": "code",
   "execution_count": 19,
   "metadata": {},
   "outputs": [
    {
     "name": "stdout",
     "output_type": "stream",
     "text": [
      "-1.9781708664172253 0.04818435371010704\n"
     ]
    }
   ],
   "source": [
    "#Click-Through-Rate\n",
    "\n",
    "click_through_rates_light= df[df['Theme']== 'Light Theme']['Click Through Rate']\n",
    "click_through_rates_dark= df[df['Theme']=='Dark Theme']['Click Through Rate']\n",
    "\n",
    "t_state_ctr, p_state_ctr= ttest_ind(click_through_rates_light, click_through_rates_dark, equal_var= False)\n",
    "\n",
    "print(t_state_ctr,\n",
    "      p_state_ctr)"
   ]
  },
  {
   "cell_type": "markdown",
   "metadata": {},
   "source": [
    "The two-sample t-test for the CTR between the light theme and dark theme yields a p-value of approximately 0.048. This p value is slightly below our significance level of 0.05, indicating there is ststistically no difference in CTR between Light and Dark theme."
   ]
  },
  {
   "cell_type": "code",
   "execution_count": 14,
   "metadata": {},
   "outputs": [
    {
     "name": "stdout",
     "output_type": "stream",
     "text": [
      "-1.2018883310494073 0.229692077505148\n"
     ]
    }
   ],
   "source": [
    "#Bounce rate\n",
    "\n",
    "bounce_rates_light = df[df['Theme']== 'Light Theme']['Bounce Rate']\n",
    "bounce_rates_dark= df[df['Theme']=='Dark Theme']['Bounce Rate']\n",
    "\n",
    "t_state_bounce, p_state_bounce= ttest_ind(bounce_rates_light, bounce_rates_dark, equal_var= False)\n",
    "\n",
    "print(t_state_bounce, p_state_bounce)"
   ]
  },
  {
   "cell_type": "code",
   "execution_count": 16,
   "metadata": {},
   "outputs": [
    {
     "name": "stdout",
     "output_type": "stream",
     "text": [
      "0.7562277864140986 0.4496919249484911\n"
     ]
    }
   ],
   "source": [
    "#scroll depth\n",
    "\n",
    "scroll_depth_light= df[df['Theme']== 'Light Theme']['Scroll_Depth']\n",
    "scroll_depth_dark= df[df['Theme']=='Dark Theme']['Scroll_Depth']\n",
    "\n",
    "t_state_scroll, p_state_scroll= ttest_ind(scroll_depth_light, scroll_depth_dark, equal_var= False)\n",
    "\n",
    "print(t_state_scroll, p_state_scroll)"
   ]
  },
  {
   "cell_type": "code",
   "execution_count": 17,
   "metadata": {},
   "outputs": [
    {
     "data": {
      "text/html": [
       "<div>\n",
       "<style scoped>\n",
       "    .dataframe tbody tr th:only-of-type {\n",
       "        vertical-align: middle;\n",
       "    }\n",
       "\n",
       "    .dataframe tbody tr th {\n",
       "        vertical-align: top;\n",
       "    }\n",
       "\n",
       "    .dataframe thead th {\n",
       "        text-align: right;\n",
       "    }\n",
       "</style>\n",
       "<table border=\"1\" class=\"dataframe\">\n",
       "  <thead>\n",
       "    <tr style=\"text-align: right;\">\n",
       "      <th></th>\n",
       "      <th>Metric</th>\n",
       "      <th>T-Statistic</th>\n",
       "      <th>P-Value</th>\n",
       "    </tr>\n",
       "  </thead>\n",
       "  <tbody>\n",
       "    <tr>\n",
       "      <th>0</th>\n",
       "      <td>Click Through Rate</td>\n",
       "      <td>-1.978171</td>\n",
       "      <td>0.048184</td>\n",
       "    </tr>\n",
       "    <tr>\n",
       "      <th>1</th>\n",
       "      <td>Conversion Rate</td>\n",
       "      <td>0.474849</td>\n",
       "      <td>0.634998</td>\n",
       "    </tr>\n",
       "    <tr>\n",
       "      <th>2</th>\n",
       "      <td>Bounce Rate</td>\n",
       "      <td>-1.201888</td>\n",
       "      <td>0.229692</td>\n",
       "    </tr>\n",
       "    <tr>\n",
       "      <th>3</th>\n",
       "      <td>Scroll Depth</td>\n",
       "      <td>0.756228</td>\n",
       "      <td>0.449692</td>\n",
       "    </tr>\n",
       "  </tbody>\n",
       "</table>\n",
       "</div>"
      ],
      "text/plain": [
       "               Metric  T-Statistic   P-Value\n",
       "0  Click Through Rate    -1.978171  0.048184\n",
       "1     Conversion Rate     0.474849  0.634998\n",
       "2         Bounce Rate    -1.201888  0.229692\n",
       "3        Scroll Depth     0.756228  0.449692"
      ]
     },
     "execution_count": 17,
     "metadata": {},
     "output_type": "execute_result"
    }
   ],
   "source": [
    "comparison_table = pd.DataFrame({\n",
    "    'Metric':['Click Through Rate', 'Conversion Rate','Bounce Rate', 'Scroll Depth'],\n",
    "    'T-Statistic': [t_state_ctr, t_state_conversion,t_state_bounce,t_state_scroll],\n",
    "    'P-Value': [p_state_ctr,p_state_conversion,p_state_bounce,p_state_scroll]\n",
    "})\n",
    "comparison_table"
   ]
  },
  {
   "cell_type": "markdown",
   "metadata": {},
   "source": [
    "Click Through Rate : the test reveals a statistically signaficant difference, with the Dark Theme likely performing better(p-value= 0.048).\n",
    "\n",
    "Conversion Rate: No statistically significant difference was found(p-value= 0.635).\n",
    "\n",
    "Bounce Rate: There's no statistically significant difference in bounce rates between the themes(p-value= 0.230)\n",
    "\n",
    "Scroll Depth: Similarly, no statistically significant difference is observed in scroll depth(p-vale= 0.450)."
   ]
  },
  {
   "cell_type": "markdown",
   "metadata": {},
   "source": [
    "## CONCLUSION"
   ]
  },
  {
   "cell_type": "markdown",
   "metadata": {},
   "source": [
    "While the two themes peroform similar across most metric, the Dark theme has a slight edge in terms of engaging users to click through while other metrics does not significantly affect user behavior according to the data provided."
   ]
  },
  {
   "cell_type": "markdown",
   "metadata": {},
   "source": []
  }
 ],
 "metadata": {
  "kernelspec": {
   "display_name": "myenv",
   "language": "python",
   "name": "python3"
  },
  "language_info": {
   "codemirror_mode": {
    "name": "ipython",
    "version": 3
   },
   "file_extension": ".py",
   "mimetype": "text/x-python",
   "name": "python",
   "nbconvert_exporter": "python",
   "pygments_lexer": "ipython3",
   "version": "3.13.1"
  }
 },
 "nbformat": 4,
 "nbformat_minor": 2
}
